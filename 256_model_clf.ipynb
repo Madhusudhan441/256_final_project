{
 "cells": [
  {
   "cell_type": "code",
   "execution_count": null,
   "metadata": {
    "_kg_hide-input": true,
    "_uuid": "9ab5367b38f084495f2a939271de7a9c3aa18f79"
   },
   "outputs": [],
   "source": [
    "import pandas as pd\n",
    "import numpy as np\n",
    "import matplotlib.pyplot as plt"
   ]
  },
  {
   "cell_type": "markdown",
   "metadata": {
    "_uuid": "a4c19c382f82484424153d6fceb02f66d66fb410"
   },
   "source": [
    "# 1. Load Data"
   ]
  },
  {
   "cell_type": "code",
   "execution_count": null,
   "metadata": {
    "_kg_hide-input": true,
    "_uuid": "3793ee996ed933d12db8ef151ce78611e99423d5"
   },
   "outputs": [],
   "source": [
    "dtypes = {\n",
    "        'MachineIdentifier':                                    'category',\n",
    "        'ProductName':                                          'category',\n",
    "        'EngineVersion':                                        'category',\n",
    "        'AppVersion':                                           'category',\n",
    "        'AvSigVersion':                                         'category',\n",
    "        'IsBeta':                                               'int8',\n",
    "        'RtpStateBitfield':                                     'float16',\n",
    "        'IsSxsPassiveMode':                                     'int8',\n",
    "        'DefaultBrowsersIdentifier':                            'float32',\n",
    "        'AVProductStatesIdentifier':                            'float32',\n",
    "        'AVProductsInstalled':                                  'float16',\n",
    "        'AVProductsEnabled':                                    'float16',\n",
    "        'HasTpm':                                               'int8',\n",
    "        'CountryIdentifier':                                    'int16',\n",
    "        'CityIdentifier':                                       'float32',\n",
    "        'OrganizationIdentifier':                               'float16',\n",
    "        'GeoNameIdentifier':                                    'float16',\n",
    "        'LocaleEnglishNameIdentifier':                          'int16',\n",
    "        'Platform':                                             'category',\n",
    "        'Processor':                                            'category',\n",
    "        'OsVer':                                                'category',\n",
    "        'OsBuild':                                              'int16',\n",
    "        'OsSuite':                                              'int16',\n",
    "        'OsPlatformSubRelease':                                 'category',\n",
    "        'OsBuildLab':                                           'category',\n",
    "        'SkuEdition':                                           'category',\n",
    "        'IsProtected':                                          'float16',\n",
    "        'AutoSampleOptIn':                                      'int8',\n",
    "        'PuaMode':                                              'category',\n",
    "        'SMode':                                                'float16',\n",
    "        'IeVerIdentifier':                                      'float16',\n",
    "        'SmartScreen':                                          'category',\n",
    "        'Firewall':                                             'float16',\n",
    "        'UacLuaenable':                                         'float32',\n",
    "        'UacLuaenable':                                         'float64', # was 'float32'\n",
    "        'Census_MDC2FormFactor':                                'category',\n",
    "        'Census_DeviceFamily':                                  'category',\n",
    "        'Census_OEMNameIdentifier':                             'float32', # was 'float16'\n",
    "        'Census_OEMModelIdentifier':                            'float32',\n",
    "        'Census_ProcessorCoreCount':                            'float16',\n",
    "        'Census_ProcessorManufacturerIdentifier':               'float16',\n",
    "        'Census_ProcessorModelIdentifier':                      'float32', # was 'float16'\n",
    "        'Census_ProcessorClass':                                'category',\n",
    "        'Census_PrimaryDiskTotalCapacity':                      'float64', # was 'float32'\n",
    "        'Census_PrimaryDiskTypeName':                           'category',\n",
    "        'Census_SystemVolumeTotalCapacity':                     'float64', # was 'float32'\n",
    "        'Census_HasOpticalDiskDrive':                           'int8',\n",
    "        'Census_TotalPhysicalRAM':                              'float32',\n",
    "        'Census_ChassisTypeName':                               'category',\n",
    "        'Census_InternalPrimaryDiagonalDisplaySizeInInches':    'float32', # was 'float16'\n",
    "        'Census_InternalPrimaryDisplayResolutionHorizontal':    'float32', # was 'float16'\n",
    "        'Census_InternalPrimaryDisplayResolutionVertical':      'float32', # was 'float16'\n",
    "        'Census_PowerPlatformRoleName':                         'category',\n",
    "        'Census_InternalBatteryType':                           'category',\n",
    "        'Census_InternalBatteryNumberOfCharges':                'float64', # was 'float32'\n",
    "        'Census_OSVersion':                                     'category',\n",
    "        'Census_OSArchitecture':                                'category',\n",
    "        'Census_OSBranch':                                      'category',\n",
    "        'Census_OSBuildNumber':                                 'int16',\n",
    "        'Census_OSBuildRevision':                               'int32',\n",
    "        'Census_OSEdition':                                     'category',\n",
    "        'Census_OSSkuName':                                     'category',\n",
    "        'Census_OSInstallTypeName':                             'category',\n",
    "        'Census_OSInstallLanguageIdentifier':                   'float16',\n",
    "        'Census_OSUILocaleIdentifier':                          'int16',\n",
    "        'Census_OSWUAutoUpdateOptionsName':                     'category',\n",
    "        'Census_IsPortableOperatingSystem':                     'int8',\n",
    "        'Census_GenuineStateName':                              'category',\n",
    "        'Census_ActivationChannel':                             'category',\n",
    "        'Census_IsFlightingInternal':                           'float16',\n",
    "        'Census_IsFlightsDisabled':                             'float16',\n",
    "        'Census_FlightRing':                                    'category',\n",
    "        'Census_ThresholdOptIn':                                'float16',\n",
    "        'Census_FirmwareManufacturerIdentifier':                'float16',\n",
    "        'Census_FirmwareVersionIdentifier':                     'float32',\n",
    "        'Census_IsSecureBootEnabled':                           'int8',\n",
    "        'Census_IsWIMBootEnabled':                              'float16',\n",
    "        'Census_IsVirtualDevice':                               'float16',\n",
    "        'Census_IsTouchEnabled':                                'int8',\n",
    "        'Census_IsPenCapable':                                  'int8',\n",
    "        'Census_IsAlwaysOnAlwaysConnectedCapable':              'float16',\n",
    "        'Wdft_IsGamer':                                         'float16',\n",
    "        'Wdft_RegionIdentifier':                                'float16',\n",
    "        'HasDetections':                                        'int8'\n",
    "        }\n",
    "train = pd.read_csv('train.csv', dtype=dtypes)\n",
    "train.shape"
   ]
  },
  {
   "cell_type": "code",
   "execution_count": null,
   "metadata": {},
   "outputs": [],
   "source": [
    "test = pd.read_csv('test.csv',dtype=dtypes)\n",
    "test.shape"
   ]
  },
  {
   "cell_type": "code",
   "execution_count": null,
   "metadata": {},
   "outputs": [],
   "source": []
  },
  {
   "cell_type": "code",
   "execution_count": null,
   "metadata": {},
   "outputs": [],
   "source": [
    "train_copy = train[:]\n",
    "test_copy =  test[:]"
   ]
  },
  {
   "cell_type": "code",
   "execution_count": null,
   "metadata": {
    "_uuid": "dd37df0ad632353401873cf685849bc198ccda5a"
   },
   "outputs": [],
   "source": [
    "droppable_features = []"
   ]
  },
  {
   "cell_type": "markdown",
   "metadata": {
    "_uuid": "aafaa9403a695048fcc017f2b264ea94ef8113d2"
   },
   "source": [
    "# 2. Feature Engineering\n",
    "\n",
    "## 2.1 mostly-missing Columns"
   ]
  },
  {
   "cell_type": "code",
   "execution_count": null,
   "metadata": {
    "_uuid": "07ae5fbbda6511f31d365de2505cd7babb17ac38"
   },
   "outputs": [],
   "source": [
    "(train.isnull().sum()/train.shape[0]).sort_values(ascending=False)"
   ]
  },
  {
   "cell_type": "code",
   "execution_count": null,
   "metadata": {},
   "outputs": [],
   "source": [
    "(test.isnull().sum()/test.shape[0]).sort_values(ascending=False)"
   ]
  },
  {
   "cell_type": "markdown",
   "metadata": {
    "_uuid": "14717608282d3e6ef92c196a5ca1bef928fbd848"
   },
   "source": [
    "* There are 2 columns which have more than 99% of missing values and they are useless."
   ]
  },
  {
   "cell_type": "code",
   "execution_count": null,
   "metadata": {},
   "outputs": [],
   "source": [
    "test.shape"
   ]
  },
  {
   "cell_type": "code",
   "execution_count": null,
   "metadata": {
    "_uuid": "b483db2afd369ee710c1a130e7b84d2ec446382b"
   },
   "outputs": [],
   "source": [
    "droppable_features.append('PuaMode')\n",
    "droppable_features.append('Census_ProcessorClass')"
   ]
  },
  {
   "cell_type": "markdown",
   "metadata": {
    "_uuid": "7e30bf688867ca1f28b36d5933c3befef8da3b69"
   },
   "source": [
    "## 2.2 Too skewed columns"
   ]
  },
  {
   "cell_type": "code",
   "execution_count": null,
   "metadata": {
    "_uuid": "3b1dde51fd356d09b5889df06e482dcd5b6d5546"
   },
   "outputs": [],
   "source": [
    "pd.options.display.float_format = '{:,.4f}'.format\n",
    "sk_df = pd.DataFrame([{'column': c, 'uniq': train[c].nunique(), 'skewness': train[c].value_counts(normalize=True).values[0] * 100} for c in train.columns])\n",
    "sk_df = sk_df.sort_values('skewness', ascending=False)\n",
    "sk_df"
   ]
  },
  {
   "cell_type": "markdown",
   "metadata": {
    "_uuid": "021e07da73f9e1184f9548bb58c10c15709f54e4"
   },
   "source": [
    "* There are 12 categorical columns whose majority category covers more than 99% of occurences, and they are useless, too."
   ]
  },
  {
   "cell_type": "code",
   "execution_count": null,
   "metadata": {
    "_uuid": "cf0d4755c096d163feb3057413d2672ba8ad6611",
    "scrolled": false
   },
   "outputs": [],
   "source": [
    "droppable_features.extend(sk_df[sk_df.skewness > 99].column.tolist())\n",
    "droppable_features"
   ]
  },
  {
   "cell_type": "code",
   "execution_count": null,
   "metadata": {
    "_uuid": "be8ac68316e3f8f0bec385e9bda898e6fe8b9de6"
   },
   "outputs": [],
   "source": [
    "# PuaMode is duplicated in the two categories.\n",
    "droppable_features.remove('PuaMode')\n",
    "\n",
    "# Drop these columns.\n",
    "train.drop(droppable_features, axis=1, inplace=True)\n"
   ]
  },
  {
   "cell_type": "code",
   "execution_count": null,
   "metadata": {},
   "outputs": [],
   "source": [
    "test.drop(droppable_features,axis = 1, inplace=True)"
   ]
  },
  {
   "cell_type": "code",
   "execution_count": null,
   "metadata": {},
   "outputs": [],
   "source": [
    "train.shape"
   ]
  },
  {
   "cell_type": "code",
   "execution_count": null,
   "metadata": {},
   "outputs": [],
   "source": [
    "test.shape"
   ]
  },
  {
   "cell_type": "markdown",
   "metadata": {
    "_uuid": "a0dde54de8f81f32cd7bc1dc0405e07366a98eed"
   },
   "source": [
    "### Fill missing values for columns that have more than 10% of missing values"
   ]
  },
  {
   "cell_type": "code",
   "execution_count": null,
   "metadata": {
    "_kg_hide-input": true,
    "_uuid": "337f7ef417f03ed855b942ec994eb259d54b8bdf"
   },
   "outputs": [],
   "source": [
    "# Nan Values\n",
    "null_counts = train.isnull().sum()\n",
    "null_counts = null_counts / train.shape[0]\n",
    "null_counts[null_counts > 0.1]"
   ]
  },
  {
   "cell_type": "markdown",
   "metadata": {
    "_uuid": "de4b9bbe34ab354546427120b126dec842a58c96"
   },
   "source": [
    "### 4 columns above should be filled missing values."
   ]
  },
  {
   "cell_type": "code",
   "execution_count": null,
   "metadata": {
    "_uuid": "1c50aaf26436c0a6665d6b853c73163b76bff39e"
   },
   "outputs": [],
   "source": [
    "train.DefaultBrowsersIdentifier.value_counts().head(5) "
   ]
  },
  {
   "cell_type": "markdown",
   "metadata": {
    "_uuid": "c031676c0fcd764802220194e80e48c262c3f695"
   },
   "source": [
    "Replace missing values with 0."
   ]
  },
  {
   "cell_type": "code",
   "execution_count": null,
   "metadata": {
    "_uuid": "36a8a4f39b8542a8abbe27a28f6ea7ddd13c5502"
   },
   "outputs": [],
   "source": [
    "train.DefaultBrowsersIdentifier.fillna(0, inplace=True)"
   ]
  },
  {
   "cell_type": "code",
   "execution_count": null,
   "metadata": {},
   "outputs": [],
   "source": [
    "test.DefaultBrowsersIdentifier.fillna(0, inplace=True)"
   ]
  },
  {
   "cell_type": "code",
   "execution_count": null,
   "metadata": {
    "_uuid": "83e872065b75a635bfbd4cf42f6e77d849a931c4"
   },
   "outputs": [],
   "source": [
    "train.SmartScreen.value_counts()"
   ]
  },
  {
   "cell_type": "code",
   "execution_count": null,
   "metadata": {
    "_uuid": "3b67827c25ff3a9146e171384e2cfb2ee33050ed"
   },
   "outputs": [],
   "source": [
    "trans_dict = {\n",
    "    'off': 'Off', '&#x02;': '2', '&#x01;': '1', 'on': 'On', 'requireadmin': 'RequireAdmin', 'OFF': 'Off', \n",
    "    'Promt': 'Prompt', 'requireAdmin': 'RequireAdmin', 'prompt': 'Prompt', 'warn': 'Warn', \n",
    "    '00000000': '0', '&#x03;': '3', np.nan: 'NoExist'\n",
    "}\n",
    "train.replace({'SmartScreen': trans_dict}, inplace=True)"
   ]
  },
  {
   "cell_type": "code",
   "execution_count": null,
   "metadata": {},
   "outputs": [],
   "source": [
    "test.replace({'SmartScreen': trans_dict}, inplace=True)"
   ]
  },
  {
   "cell_type": "code",
   "execution_count": null,
   "metadata": {
    "_uuid": "ce85416a8038d29504af4903428e9848219a5af0"
   },
   "outputs": [],
   "source": [
    "test.SmartScreen.isnull().sum()"
   ]
  },
  {
   "cell_type": "code",
   "execution_count": null,
   "metadata": {},
   "outputs": [],
   "source": [
    "train.shape"
   ]
  },
  {
   "cell_type": "code",
   "execution_count": null,
   "metadata": {
    "_kg_hide-output": true,
    "_uuid": "6eb19718e497d70238af2f95d1d10a1599f8c2ea"
   },
   "outputs": [],
   "source": [
    "train.OrganizationIdentifier.value_counts()"
   ]
  },
  {
   "cell_type": "markdown",
   "metadata": {
    "_uuid": "273e90e191060595726ef086e48a6b5e60bd092a"
   },
   "source": [
    "### This column has ID numbers and I think 0 can represent unknown/NA values."
   ]
  },
  {
   "cell_type": "code",
   "execution_count": null,
   "metadata": {
    "_uuid": "cc6d2952911bb3e479ecdf270a193ec4095abe61"
   },
   "outputs": [],
   "source": [
    "train.replace({'OrganizationIdentifier': {np.nan: 0}}, inplace=True)"
   ]
  },
  {
   "cell_type": "code",
   "execution_count": null,
   "metadata": {},
   "outputs": [],
   "source": [
    "test.replace({'OrganizationIdentifier': {np.nan: 0}}, inplace=True)"
   ]
  },
  {
   "cell_type": "code",
   "execution_count": null,
   "metadata": {
    "_kg_hide-output": true,
    "_uuid": "2cee104f9536314d8b55ce13e236914625e83315"
   },
   "outputs": [],
   "source": [
    "pd.options.display.max_rows = 99\n",
    "train.Census_InternalBatteryType.value_counts()"
   ]
  },
  {
   "cell_type": "markdown",
   "metadata": {
    "_uuid": "2112d42709e1875bb92926b367b2e91e1a49d54e"
   },
   "source": [
    "### Census_InternalBatteryType has 75+% of missing values as well as \"\u001f˙˙˙\" and \"unkn\" values which seem to mean \"unknown\". So replace these values with \"unknown\"."
   ]
  },
  {
   "cell_type": "code",
   "execution_count": null,
   "metadata": {
    "_uuid": "d8a54527e9bea3e77713ba5227ff0cee2a1f0a02"
   },
   "outputs": [],
   "source": [
    "trans_dict = {\n",
    "    '\u001f˙˙˙': 'unknown', 'unkn': 'unknown', np.nan: 'unknown'\n",
    "}\n",
    "train.replace({'Census_InternalBatteryType': trans_dict}, inplace=True)"
   ]
  },
  {
   "cell_type": "code",
   "execution_count": null,
   "metadata": {},
   "outputs": [],
   "source": [
    "trans_dict = {\n",
    "    '\u001f˙˙˙': 'unknown', 'unkn': 'unknown', np.nan: 'unknown'\n",
    "}\n",
    "test.replace({'Census_InternalBatteryType': trans_dict}, inplace=True)"
   ]
  },
  {
   "cell_type": "code",
   "execution_count": null,
   "metadata": {},
   "outputs": [],
   "source": [
    "test.shape"
   ]
  },
  {
   "cell_type": "markdown",
   "metadata": {
    "_uuid": "6a8426dd8b0cb1aa5773177a9b0fd053917153da"
   },
   "source": [
    "### Remove missing values from the train."
   ]
  },
  {
   "cell_type": "code",
   "execution_count": null,
   "metadata": {
    "_uuid": "387d09cda54626371a89b8d53622059138db2eb2"
   },
   "outputs": [],
   "source": [
    "train_c = train[:]\n",
    "test_c = test[:]"
   ]
  },
  {
   "cell_type": "code",
   "execution_count": null,
   "metadata": {},
   "outputs": [],
   "source": []
  },
  {
   "cell_type": "code",
   "execution_count": null,
   "metadata": {
    "_uuid": "31b50e5e4c8ccb94f9ebf62a8c54f1edef417904"
   },
   "outputs": [],
   "source": [
    "# train.dropna(inplace=True)\n",
    "# train.shape\n",
    "train = train.fillna(pd.Series(9999, index=train.select_dtypes(exclude='category').columns))\n",
    "test = test.fillna(pd.Series(9999, index=test.select_dtypes(exclude='category').columns))"
   ]
  },
  {
   "cell_type": "code",
   "execution_count": null,
   "metadata": {},
   "outputs": [],
   "source": [
    "lst3 = test.columns[test.isna().any()].tolist()\n",
    "lst2 = train.columns[train.isna().any()].tolist()\n",
    "print(len(lst3),len(lst2))"
   ]
  },
  {
   "cell_type": "code",
   "execution_count": null,
   "metadata": {},
   "outputs": [],
   "source": [
    "train_category_cols = train.select_dtypes(include='category').columns.tolist()\n",
    "for j in train_category_cols:\n",
    "    if j in lst2:\n",
    "        train[j] = train[j].cat.add_categories(\"D\").fillna(\"D\")\n",
    "lst4 = train.columns[train.isna().any()].tolist()\n",
    "len(lst4)"
   ]
  },
  {
   "cell_type": "code",
   "execution_count": null,
   "metadata": {},
   "outputs": [],
   "source": [
    "test_category_cols = test.select_dtypes(include='category').columns.tolist()\n",
    "for j in test_category_cols:\n",
    "    if j in lst3:\n",
    "        test[j] = test[j].cat.add_categories(\"D\").fillna(\"D\")\n",
    "lst1 = test.columns[test.isna().any()].tolist()\n",
    "len(lst1)"
   ]
  },
  {
   "cell_type": "code",
   "execution_count": null,
   "metadata": {},
   "outputs": [],
   "source": []
  },
  {
   "cell_type": "code",
   "execution_count": null,
   "metadata": {},
   "outputs": [],
   "source": []
  },
  {
   "cell_type": "markdown",
   "metadata": {
    "_uuid": "4de3e3a612a6625af39914d5b2e20e1bb48d1bce"
   },
   "source": [
    "Nearly 14% of data has been removed. But I have to think about how to deal with missing values of test dataset..."
   ]
  },
  {
   "cell_type": "markdown",
   "metadata": {
    "_uuid": "4a01ea4ef465ee3e9532311db194b9613eb06cd8"
   },
   "source": [
    "MachineIdentifier is not useful for prediction of malware detection."
   ]
  },
  {
   "cell_type": "code",
   "execution_count": null,
   "metadata": {
    "_uuid": "68ee71d0f0fe22f061974f6b114a88ea971a5ae3"
   },
   "outputs": [],
   "source": [
    "train.drop('MachineIdentifier', axis=1, inplace=True)"
   ]
  },
  {
   "cell_type": "code",
   "execution_count": null,
   "metadata": {},
   "outputs": [],
   "source": [
    "test.drop('MachineIdentifier', axis=1, inplace=True)"
   ]
  },
  {
   "cell_type": "markdown",
   "metadata": {
    "_uuid": "a29af49d1f3fcafda385050e8a9cd7006026e323"
   },
   "source": [
    "### Label Encoding for category columns"
   ]
  },
  {
   "cell_type": "code",
   "execution_count": null,
   "metadata": {
    "_uuid": "62180425960c85950d2dadd28ec10aa1db7c4c13"
   },
   "outputs": [],
   "source": [
    "train['SmartScreen'] = train.SmartScreen.astype('category')\n",
    "train['Census_InternalBatteryType'] = train.Census_InternalBatteryType.astype('category')\n",
    "\n",
    "cate_cols = train.select_dtypes(include='category').columns.tolist()\n",
    "\n",
    "from sklearn.preprocessing import LabelEncoder\n",
    "le = LabelEncoder()\n",
    "\n",
    "for col in cate_cols:\n",
    "    train[col] = le.fit_transform(train[col])\n"
   ]
  },
  {
   "cell_type": "code",
   "execution_count": null,
   "metadata": {},
   "outputs": [],
   "source": [
    "test['SmartScreen'] = test.SmartScreen.astype('category')\n",
    "test['Census_InternalBatteryType'] = test.Census_InternalBatteryType.astype('category')\n",
    "test['Census_FlightRing'] = test.Census_FlightRing.astype('category')\n",
    "\n",
    "cate_cols = test.select_dtypes(include='category').columns.tolist()\n",
    "\n",
    "from sklearn.preprocessing import LabelEncoder\n",
    "le = LabelEncoder()\n",
    "\n",
    "for col in cate_cols:\n",
    "    test[col] = le.fit_transform(test[col])"
   ]
  },
  {
   "cell_type": "code",
   "execution_count": null,
   "metadata": {},
   "outputs": [],
   "source": [
    "# test.fillna(0)"
   ]
  },
  {
   "cell_type": "code",
   "execution_count": null,
   "metadata": {},
   "outputs": [],
   "source": []
  },
  {
   "cell_type": "markdown",
   "metadata": {
    "_uuid": "4fb03b118d8cf5ba67b707be49e96beddc441f8a"
   },
   "source": [
    "Reduce the memory by codes from https://www.kaggle.com/timon88/load-whole-data-without-any-dtypes"
   ]
  },
  {
   "cell_type": "code",
   "execution_count": null,
   "metadata": {
    "_kg_hide-input": true,
    "_uuid": "cfe7591e046bc2dd81921176856a863329eb7d28"
   },
   "outputs": [],
   "source": [
    "def reduce_mem_usage(df):\n",
    "    \"\"\" iterate through all the columns of a dataframe and modify the data type\n",
    "        to reduce memory usage.        \n",
    "    \"\"\"\n",
    "    start_mem = df.memory_usage().sum() / 1024**2\n",
    "    print('Memory usage of dataframe is {:.2f} MB'.format(start_mem))\n",
    "    \n",
    "    for col in df.columns:\n",
    "        col_type = df[col].dtype\n",
    "        \n",
    "        if col_type != object:\n",
    "            c_min = df[col].min()\n",
    "            c_max = df[col].max()\n",
    "            if str(col_type)[:3] == 'int':\n",
    "                if c_min > np.iinfo(np.int8).min and c_max < np.iinfo(np.int8).max:\n",
    "                    df[col] = df[col].astype(np.int8)\n",
    "                elif c_min > np.iinfo(np.int16).min and c_max < np.iinfo(np.int16).max:\n",
    "                    df[col] = df[col].astype(np.int16)\n",
    "                elif c_min > np.iinfo(np.int32).min and c_max < np.iinfo(np.int32).max:\n",
    "                    df[col] = df[col].astype(np.int32)\n",
    "                elif c_min > np.iinfo(np.int64).min and c_max < np.iinfo(np.int64).max:\n",
    "                    df[col] = df[col].astype(np.int64)  \n",
    "            else:\n",
    "                if c_min > np.finfo(np.float16).min and c_max < np.finfo(np.float16).max:\n",
    "                    df[col] = df[col].astype(np.float16)\n",
    "                elif c_min > np.finfo(np.float32).min and c_max < np.finfo(np.float32).max:\n",
    "                    df[col] = df[col].astype(np.float32)\n",
    "                else:\n",
    "                    df[col] = df[col].astype(np.float64)\n",
    "        else:\n",
    "            df[col] = df[col].astype('category')\n",
    "\n",
    "    end_mem = df.memory_usage().sum() / 1024**2\n",
    "    print('Memory usage after optimization is: {:.2f} MB'.format(end_mem))\n",
    "    print('Decreased by {:.1f}%'.format(100 * (start_mem - end_mem) / start_mem))\n",
    "    \n",
    "    return df\n",
    "\n",
    "%time\n",
    "train = reduce_mem_usage(train)"
   ]
  },
  {
   "cell_type": "code",
   "execution_count": null,
   "metadata": {},
   "outputs": [],
   "source": [
    "test = reduce_mem_usage(test)"
   ]
  },
  {
   "cell_type": "markdown",
   "metadata": {
    "_uuid": "eccfab14ceb4346faea6c86743baf052ce2715ad"
   },
   "source": [
    "## 2.3 Highly correlated features.\n",
    "\n",
    "As there are still too many features, it is bad to calculate and look at all the correlations at once. So, I grouped them by 10 columns and considered their correlations, and finally calculated all the correlation of remaining features."
   ]
  },
  {
   "cell_type": "code",
   "execution_count": null,
   "metadata": {
    "_uuid": "a97cd0788772f2679bba1154fd1ab9d32a7b294e"
   },
   "outputs": [],
   "source": [
    "cols = train.columns.tolist()"
   ]
  },
  {
   "cell_type": "code",
   "execution_count": null,
   "metadata": {
    "_kg_hide-input": true,
    "_uuid": "01aa8c6d269067950cc3870b9e6e219f786484a6",
    "scrolled": false
   },
   "outputs": [],
   "source": [
    "import seaborn as sns\n",
    "\n",
    "plt.figure(figsize=(10,10))\n",
    "co_cols = cols[:10]\n",
    "co_cols.append('HasDetections')\n",
    "sns.heatmap(train[co_cols].corr(), cmap='RdBu_r', annot=True, center=0.0)\n",
    "plt.title('Correlation between 1 ~ 10th columns')\n",
    "plt.show()"
   ]
  },
  {
   "cell_type": "markdown",
   "metadata": {
    "_uuid": "e45113d3e98f58bd93cf47ff1859db9dcfb80f2c"
   },
   "source": [
    "There is no columns which have 0.99+ correlation."
   ]
  },
  {
   "cell_type": "code",
   "execution_count": null,
   "metadata": {
    "_uuid": "5ede06a95a1a79cca3240350112f826ac9378266"
   },
   "outputs": [],
   "source": [
    "corr_remove = []"
   ]
  },
  {
   "cell_type": "code",
   "execution_count": null,
   "metadata": {
    "_kg_hide-input": true,
    "_uuid": "004f92f25b67af585f4d6ca0a2a908f1280010db",
    "scrolled": false
   },
   "outputs": [],
   "source": [
    "co_cols = cols[10:20]\n",
    "co_cols.append('HasDetections')\n",
    "plt.figure(figsize=(10,10))\n",
    "sns.heatmap(train[co_cols].corr(), cmap='RdBu_r', annot=True, center=0.0)\n",
    "plt.title('Correlation between 11 ~ 20th columns')\n",
    "plt.show()"
   ]
  },
  {
   "cell_type": "markdown",
   "metadata": {
    "_uuid": "a3d4121023ea066bbc61ec6ddae558df946f571c"
   },
   "source": [
    "Compare and choose the feature which has less unique values."
   ]
  },
  {
   "cell_type": "code",
   "execution_count": null,
   "metadata": {
    "_uuid": "c616027d15f1c6fae89cd3dabf606b20fd399639"
   },
   "outputs": [],
   "source": [
    "print(train.Platform.nunique())\n",
    "print(train.OsVer.nunique())"
   ]
  },
  {
   "cell_type": "markdown",
   "metadata": {
    "_uuid": "07244e6fa9ed89072769256d655168c2300a5076"
   },
   "source": [
    "* `Platform` vs `OsVer` : remove **`Platform`**"
   ]
  },
  {
   "cell_type": "code",
   "execution_count": null,
   "metadata": {
    "_uuid": "6898ddb44838f806de928ebd844956f6e95ae4a1"
   },
   "outputs": [],
   "source": [
    "corr_remove.append('Platform')"
   ]
  },
  {
   "cell_type": "code",
   "execution_count": null,
   "metadata": {
    "_kg_hide-input": true,
    "_uuid": "b9cff3f2b2b353f6d0358dbc8ebe2625f100f63b",
    "scrolled": false
   },
   "outputs": [],
   "source": [
    "co_cols = cols[20:30]\n",
    "co_cols.append('HasDetections')\n",
    "plt.figure(figsize=(10,10))\n",
    "sns.heatmap(train[co_cols].corr(), cmap='RdBu_r', annot=True, center=0.0)\n",
    "plt.title('Correlation between 21 ~ 30th columns')\n",
    "plt.show()"
   ]
  },
  {
   "cell_type": "markdown",
   "metadata": {
    "_uuid": "aa72851b5df00ea01ad9baf526d691557f9bcca3"
   },
   "source": [
    "No features whose correlation is 0.99+."
   ]
  },
  {
   "cell_type": "code",
   "execution_count": null,
   "metadata": {
    "_uuid": "7a8f738759b847eaf016a0c63a8bd0228e9da73e",
    "scrolled": false
   },
   "outputs": [],
   "source": [
    "co_cols = cols[30:40]\n",
    "co_cols.append('HasDetections')\n",
    "plt.figure(figsize=(10,10))\n",
    "sns.heatmap(train[co_cols].corr(), cmap='RdBu_r', annot=True, center=0.0)\n",
    "plt.title('Correlation between 31 ~ 40th columns')\n",
    "plt.show()"
   ]
  },
  {
   "cell_type": "markdown",
   "metadata": {
    "_uuid": "d96f4c2a94d53ecb91dca510237c8c6eb825cbd5"
   },
   "source": [
    "Nothing."
   ]
  },
  {
   "cell_type": "code",
   "execution_count": null,
   "metadata": {
    "_kg_hide-input": true,
    "_uuid": "7b7e763e256d0a43cb73d04a65e6c1bbc3ba56fb"
   },
   "outputs": [],
   "source": [
    "co_cols = cols[40:50]\n",
    "co_cols.append('HasDetections')\n",
    "plt.figure(figsize=(10,10))\n",
    "sns.heatmap(train[co_cols].corr(), cmap='RdBu_r', annot=True, center=0.0)\n",
    "plt.title('Correlation between 41 ~ 50th columns')\n",
    "plt.show()"
   ]
  },
  {
   "cell_type": "markdown",
   "metadata": {
    "_uuid": "fcd284eb66a4bf29344eee0ccda48349fe967eca"
   },
   "source": [
    "Nothing."
   ]
  },
  {
   "cell_type": "code",
   "execution_count": null,
   "metadata": {
    "_kg_hide-input": true,
    "_uuid": "70a9156d88a393726f972d5ec4835413561f03ff",
    "scrolled": false
   },
   "outputs": [],
   "source": [
    "co_cols = cols[50:60]\n",
    "co_cols.append('HasDetections')\n",
    "plt.figure(figsize=(10,10))\n",
    "sns.heatmap(train[co_cols].corr(), cmap='RdBu_r', annot=True, center=0)\n",
    "plt.title('Correlation between 51 ~ 60th columns')\n",
    "plt.show()"
   ]
  },
  {
   "cell_type": "code",
   "execution_count": null,
   "metadata": {
    "_uuid": "742bdc22441abbd35e4e59cdb361da63525c6548"
   },
   "outputs": [],
   "source": [
    "print(train.Census_OSEdition.nunique())\n",
    "print(train.Census_OSSkuName.nunique(), '\\n')\n",
    "print(train.Census_OSInstallLanguageIdentifier.nunique())\n",
    "print(train.Census_OSUILocaleIdentifier.nunique())\n"
   ]
  },
  {
   "cell_type": "markdown",
   "metadata": {
    "_uuid": "f1e0271c5d3275d1d5fa51ea170aaac137bda485"
   },
   "source": [
    "* `Census_OSEdition` vs `Census_OSSkuName`:  remove **`Census_OSSkuName`**\n",
    "* `Census_OSInstallLanguageIdentifier` vs `Census_OSUILocaleIdentifier`: remove **`Census_OSInstallLanguageIdentifier`**"
   ]
  },
  {
   "cell_type": "code",
   "execution_count": null,
   "metadata": {
    "_uuid": "7edc4de6e743f5f45b886d112a4043e6d03fdb10"
   },
   "outputs": [],
   "source": [
    "corr_remove.append('Census_OSSkuName')\n",
    "corr_remove.append('Census_OSInstallLanguageIdentifier')"
   ]
  },
  {
   "cell_type": "code",
   "execution_count": null,
   "metadata": {
    "_kg_hide-input": true,
    "_uuid": "99bff3d79d955b1bf6a8f846e16a9073b32fe6f8"
   },
   "outputs": [],
   "source": [
    "co_cols = cols[60:]\n",
    "#co_cols.append('HasDetections')\n",
    "plt.figure(figsize=(10,10))\n",
    "sns.heatmap(train[co_cols].corr(), cmap='RdBu_r', annot=True, center=0)\n",
    "plt.title('Correlation between from 61th to the last columns')\n",
    "plt.show()"
   ]
  },
  {
   "cell_type": "markdown",
   "metadata": {
    "_uuid": "95c04044c54037aaa627def029780e62c5db55c4"
   },
   "source": [
    "Nothing here."
   ]
  },
  {
   "cell_type": "code",
   "execution_count": null,
   "metadata": {
    "_uuid": "2f8b8c5d7dbba20bd64ad325e0cf3f87cba83592"
   },
   "outputs": [],
   "source": [
    "corr_remove"
   ]
  },
  {
   "cell_type": "markdown",
   "metadata": {
    "_uuid": "bd27251a959e074669f371b809d28713ff3fd1e8"
   },
   "source": [
    "Now we have got 3 columns to remove from correlations of 10-group features."
   ]
  },
  {
   "cell_type": "code",
   "execution_count": null,
   "metadata": {
    "_uuid": "8af79e5677ecd05af9923c20bb84b847424f03c8"
   },
   "outputs": [],
   "source": [
    "train.drop(corr_remove, axis=1, inplace=True)\n",
    "test.drop(corr_remove, axis=1, inplace=True)"
   ]
  },
  {
   "cell_type": "markdown",
   "metadata": {
    "_uuid": "fc1884e1584800f9d664986793f38ca05fbe4f9e"
   },
   "source": [
    "Now, find cross-group correlated features."
   ]
  },
  {
   "cell_type": "code",
   "execution_count": null,
   "metadata": {
    "_kg_hide-input": true,
    "_uuid": "33034d2df2d893620712b28a138f9d5647579a0a"
   },
   "outputs": [],
   "source": [
    "corr = train.corr()\n",
    "high_corr = (corr >= 0.99).astype('uint8')\n",
    "plt.figure(figsize=(15,15))\n",
    "sns.heatmap(high_corr, cmap='RdBu_r', annot=True, center=0.0)\n",
    "plt.show()\n"
   ]
  },
  {
   "cell_type": "code",
   "execution_count": null,
   "metadata": {
    "_uuid": "788129459e1ce8c026dfcded149a22ac08c36b6a"
   },
   "outputs": [],
   "source": [
    "print(train.Census_OSArchitecture.nunique())\n",
    "print(train.Processor.nunique())"
   ]
  },
  {
   "cell_type": "markdown",
   "metadata": {
    "_uuid": "3dafe4be748ad49c4ccff5d2d644d0899e1a75df"
   },
   "source": [
    "`Census_OSArchitecture` and `Processor` have the same length of unique values. Then which one? Let's compare their correlation to the `HasDetections`."
   ]
  },
  {
   "cell_type": "code",
   "execution_count": null,
   "metadata": {
    "_uuid": "dfb0e35255637734afb5ec6ac5b85712a5716e40"
   },
   "outputs": [],
   "source": [
    "train[['Census_OSArchitecture', 'Processor', 'HasDetections']].corr()"
   ]
  },
  {
   "cell_type": "markdown",
   "metadata": {
    "_uuid": "15d227040f687ea67d1f02d138722bd3e641aa05"
   },
   "source": [
    "They seem to be totally same, so anything is OK to remove.\n",
    "\n",
    "* `Census_OSArchitecture` vs `Processor`: remove **`Processor`**"
   ]
  },
  {
   "cell_type": "code",
   "execution_count": null,
   "metadata": {
    "_uuid": "659b3b5b1a2cd08c940f7265f5f336434900925d"
   },
   "outputs": [],
   "source": [
    "corr_remove.append('Processor')"
   ]
  },
  {
   "cell_type": "code",
   "execution_count": null,
   "metadata": {
    "_uuid": "ec86d12a0cec83fdf6223778a57e42308cd0f46e"
   },
   "outputs": [],
   "source": [
    "droppable_features.extend(corr_remove)\n",
    "print(len(droppable_features))\n",
    "droppable_features"
   ]
  },
  {
   "cell_type": "markdown",
   "metadata": {
    "_uuid": "85d2f0d69731be13ce549f48ca157ffa06f9553d"
   },
   "source": []
  },
  {
   "cell_type": "code",
   "execution_count": null,
   "metadata": {},
   "outputs": [],
   "source": [
    "train.shape"
   ]
  },
  {
   "cell_type": "code",
   "execution_count": null,
   "metadata": {},
   "outputs": [],
   "source": [
    "train.head()"
   ]
  },
  {
   "cell_type": "code",
   "execution_count": null,
   "metadata": {},
   "outputs": [],
   "source": [
    "y_train = train['HasDetections']\n",
    "train.drop(['HasDetections'],axis = 1)"
   ]
  },
  {
   "cell_type": "code",
   "execution_count": null,
   "metadata": {},
   "outputs": [],
   "source": [
    "for train_col in train.columns:\n",
    "    if train_col not in test.columns:\n",
    "        train.drop([train_col],axis = 1,inplace = True)\n",
    "train.shape"
   ]
  },
  {
   "cell_type": "code",
   "execution_count": null,
   "metadata": {},
   "outputs": [],
   "source": [
    "from sklearn.preprocessing import StandardScaler\n",
    "sc = StandardScaler()\n",
    "train = sc.fit_transform(train)"
   ]
  },
  {
   "cell_type": "code",
   "execution_count": null,
   "metadata": {},
   "outputs": [],
   "source": [
    "print(train.shape,test.shape)"
   ]
  },
  {
   "cell_type": "code",
   "execution_count": null,
   "metadata": {},
   "outputs": [],
   "source": []
  },
  {
   "cell_type": "code",
   "execution_count": null,
   "metadata": {},
   "outputs": [],
   "source": [
    "from sklearn.ensemble import RandomForestClassifier\n",
    "clf = RandomForestClassifier(n_estimators=100, max_depth=9,random_state=0)\n",
    "clf.fit(train,y_train)"
   ]
  },
  {
   "cell_type": "code",
   "execution_count": null,
   "metadata": {},
   "outputs": [],
   "source": [
    "y_predict = clf.predict(test)"
   ]
  },
  {
   "cell_type": "code",
   "execution_count": null,
   "metadata": {},
   "outputs": [],
   "source": [
    "# print(y_predict)"
   ]
  },
  {
   "cell_type": "code",
   "execution_count": null,
   "metadata": {},
   "outputs": [],
   "source": [
    "# from sklearn.metrics import mean_squared_error\n",
    "# import math\n",
    "# math.sqrt(mean_squared_error(Y_test, y_predict))"
   ]
  },
  {
   "cell_type": "code",
   "execution_count": null,
   "metadata": {},
   "outputs": [],
   "source": [
    "print(len(y_predict))"
   ]
  },
  {
   "cell_type": "code",
   "execution_count": null,
   "metadata": {},
   "outputs": [],
   "source": [
    "print(len(np.array(Y_test)))"
   ]
  },
  {
   "cell_type": "code",
   "execution_count": null,
   "metadata": {},
   "outputs": [],
   "source": [
    "# from sklearn.metrics import accuracy_score\n",
    "# accuracy_score(np.array(y_predict),np.array(Y_test),normalize=False)"
   ]
  },
  {
   "cell_type": "code",
   "execution_count": null,
   "metadata": {},
   "outputs": [],
   "source": [
    "for test_col in test.columns:\n",
    "    if test_col not in train.columns:\n",
    "        test.drop([test_col],axis = 1,inplace = True)\n",
    "test.shape"
   ]
  },
  {
   "cell_type": "code",
   "execution_count": null,
   "metadata": {},
   "outputs": [],
   "source": [
    "y_predict_test = clf.predict(test)"
   ]
  },
  {
   "cell_type": "code",
   "execution_count": null,
   "metadata": {},
   "outputs": [],
   "source": [
    "len(y_predict_test)"
   ]
  },
  {
   "cell_type": "code",
   "execution_count": null,
   "metadata": {},
   "outputs": [],
   "source": [
    "submission = pd.read_csv('sample_submission.csv')"
   ]
  },
  {
   "cell_type": "code",
   "execution_count": null,
   "metadata": {},
   "outputs": [],
   "source": [
    "submission_array = np.array(submission)"
   ]
  },
  {
   "cell_type": "code",
   "execution_count": null,
   "metadata": {},
   "outputs": [],
   "source": [
    "print(submission.head())"
   ]
  },
  {
   "cell_type": "code",
   "execution_count": null,
   "metadata": {},
   "outputs": [],
   "source": []
  },
  {
   "cell_type": "code",
   "execution_count": null,
   "metadata": {},
   "outputs": [],
   "source": [
    "submission['HasDetections'] = y_predict"
   ]
  },
  {
   "cell_type": "code",
   "execution_count": null,
   "metadata": {},
   "outputs": [],
   "source": [
    "submission.head()"
   ]
  },
  {
   "cell_type": "code",
   "execution_count": null,
   "metadata": {},
   "outputs": [],
   "source": [
    "submission.to_csv(\"submission_file.csv\",index=False)"
   ]
  },
  {
   "cell_type": "code",
   "execution_count": null,
   "metadata": {},
   "outputs": [],
   "source": [
    "from sklearn.model_selection import train_test_split\n",
    "X_train, X_test, Y_train, Y_test = train_test_split(train, y_train, test_size=0.20, random_state=42)"
   ]
  },
  {
   "cell_type": "code",
   "execution_count": null,
   "metadata": {},
   "outputs": [],
   "source": [
    "import lightgbm as lgb\n",
    "def run_lgb(train_X, train_y, val_X, val_y):\n",
    "    params = {\n",
    "        \"objective\" : \"regression\",\n",
    "        \"metric\" : \"rmse\", \n",
    "        \"num_leaves\" : 30,\n",
    "        \"min_child_samples\" : 100,\n",
    "        \"learning_rate\" : 0.1,\n",
    "        \"bagging_fraction\" : 0.7,\n",
    "        \"feature_fraction\" : 0.5,\n",
    "        \"bagging_frequency\" : 5,\n",
    "        \"bagging_seed\" : 2018,\n",
    "        \"verbosity\" : -1\n",
    "    }\n",
    "    \n",
    "    lgtrain = lgb.Dataset(train_X, label=train_y)\n",
    "    lgval = lgb.Dataset(val_X, label=val_y)\n",
    "    model = lgb.train(params, lgtrain, 1000, valid_sets=[lgval], early_stopping_rounds=1000, verbose_eval=100)\n",
    "    \n",
    "#     pred_test_y = model.predict(test_X, num_iteration=model.best_iteration)\n",
    "    pred_val_y = model.predict(val_X, num_iteration=model.best_iteration)\n",
    "    return  model, pred_val_y\n",
    "\n",
    "# Training the model #\n",
    "lgb_model, y_predict_lgb = run_lgb(X_train, Y_train , X_test, Y_test)\n",
    "pred_test = lgb_model.predict(test)\n",
    "from sklearn.metrics import mean_squared_error\n",
    "import math\n",
    "math.sqrt(mean_squared_error(Y_test, y_predict_lgb))"
   ]
  },
  {
   "cell_type": "code",
   "execution_count": null,
   "metadata": {},
   "outputs": [],
   "source": [
    "submission['HasDetections'] = pred_test\n",
    "submission.to_csv(\"submission_file_lgb.csv\",index=False)"
   ]
  },
  {
   "cell_type": "code",
   "execution_count": null,
   "metadata": {},
   "outputs": [],
   "source": [
    "import keras\n",
    "from keras.models import Sequential\n",
    "from keras.layers import Dense"
   ]
  },
  {
   "cell_type": "code",
   "execution_count": null,
   "metadata": {},
   "outputs": [],
   "source": [
    "classifier = Sequential()"
   ]
  },
  {
   "cell_type": "code",
   "execution_count": null,
   "metadata": {},
   "outputs": [],
   "source": [
    "train.shape"
   ]
  },
  {
   "cell_type": "code",
   "execution_count": null,
   "metadata": {},
   "outputs": [],
   "source": [
    "# Adding the input layer and the first hidden layer\n",
    "classifier.add(Dense(output_dim = 45, init = 'uniform', activation = 'relu', input_dim = 65))# Adding the second hidden layer\n",
    "classifier.add(Dense(output_dim = 36, init = 'uniform', activation = 'relu'))# Adding the output layer\n",
    "classifier.add(Dense(output_dim = 24, init = 'uniform', activation = 'relu'))# Adding the output layer\n",
    "classifier.add(Dense(output_dim = 12, init = 'uniform', activation = 'relu'))# Adding the output layer\n",
    "classifier.add(Dense(output_dim = 6, init = 'uniform', activation = 'relu'))# Adding the output layer\n",
    "classifier.add(Dense(output_dim = 1, init = 'uniform', activation = 'sigmoid'))"
   ]
  },
  {
   "cell_type": "code",
   "execution_count": null,
   "metadata": {},
   "outputs": [],
   "source": []
  },
  {
   "cell_type": "code",
   "execution_count": null,
   "metadata": {},
   "outputs": [],
   "source": [
    "classifier.compile(optimizer = 'adam', loss = 'binary_crossentropy', metrics = ['accuracy'])"
   ]
  },
  {
   "cell_type": "code",
   "execution_count": null,
   "metadata": {},
   "outputs": [],
   "source": [
    "classifier.fit(train, y_train, batch_size = 32, nb_epoch = 10)"
   ]
  },
  {
   "cell_type": "code",
   "execution_count": null,
   "metadata": {},
   "outputs": [],
   "source": [
    "y_pred_nn = classifier.predict(test)"
   ]
  },
  {
   "cell_type": "code",
   "execution_count": null,
   "metadata": {},
   "outputs": [],
   "source": [
    "# from sklearn.metrics import mean_squared_error\n",
    "# import math\n",
    "# math.sqrt(mean_squared_error(Y_test, y_pred_nn))"
   ]
  },
  {
   "cell_type": "code",
   "execution_count": null,
   "metadata": {},
   "outputs": [],
   "source": [
    "# from sklearn.metrics import accuracy_score\n",
    "# accuracy_score(np.array(y_pred_nn),np.array(Y_test),normalize=False)"
   ]
  },
  {
   "cell_type": "code",
   "execution_count": null,
   "metadata": {},
   "outputs": [],
   "source": [
    "max(y_pred_nn)"
   ]
  },
  {
   "cell_type": "code",
   "execution_count": null,
   "metadata": {},
   "outputs": [],
   "source": []
  }
 ],
 "metadata": {
  "kernelspec": {
   "display_name": "Python 3",
   "language": "python",
   "name": "python3"
  },
  "language_info": {
   "codemirror_mode": {
    "name": "ipython",
    "version": 3
   },
   "file_extension": ".py",
   "mimetype": "text/x-python",
   "name": "python",
   "nbconvert_exporter": "python",
   "pygments_lexer": "ipython3",
   "version": "3.7.4"
  }
 },
 "nbformat": 4,
 "nbformat_minor": 1
}
